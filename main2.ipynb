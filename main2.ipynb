{
 "cells": [
  {
   "cell_type": "code",
   "execution_count": null,
   "metadata": {},
   "outputs": [],
   "source": [
    "from apiclient.discovery import build\n",
    "from google_auth_oauthlib.flow import InstalledAppFlow\n",
    "import json\n",
    "import time\n",
    "\n",
    "CLIENT_SECRET_FILE = 'client_secret.json'\n",
    "SCOPES = ['https://www.googleapis.com/auth/youtube.force-ssl']\n",
    "\n",
    "flow = InstalledAppFlow.from_client_secrets_file(CLIENT_SECRET_FILE,SCOPES)\n",
    "credentials = flow.run_console()\n",
    "youtube = build('youtube','v3',credentials=credentials)"
   ]
  },
  {
   "cell_type": "code",
   "execution_count": null,
   "metadata": {},
   "outputs": [],
   "source": [
    "VIDEO_ID = 'TNyzzhADycE'\n",
    "# Replace your video ID here"
   ]
  },
  {
   "cell_type": "code",
   "execution_count": null,
   "metadata": {},
   "outputs": [],
   "source": [
    "description = '''The title of this video should change with the times. If everything goes fine.\n",
    "\n",
    "Link for code: https://github.com/da-piyushpatel/YouTube-video-title-updater/\n",
    "\n",
    "*******************************************\n",
    "Follow my other channel for JEE & Exam Related stuff BitJEE Pathshala - https://tinyurl.com/JEEbyPK\n",
    "\n",
    "This Channel is for College, Carrer & My Vlogs :)\n",
    "\n",
    "Recommend Books for JEE Preparation + My Reading List & Other Useful Stuff: https://www.amazon.in/shop/p.k.pateliit-k\n",
    "\n",
    "For a detailed analysis of JEE Books visit my website - http://pkpatel.tech/jee-book.html\n",
    "\n",
    "Buy my JEE Advanced Handwritten Notes (PCM) - https://www.instamojo.com/pkpatel\n",
    "\n",
    "------------------------------------------------------------------------------\n",
    "\n",
    "Join my Telegram Channel to download JEE Material, Short notes, and Other Useful Content- https://t.me/pkpateliitk\n",
    "\n",
    "-------------------------------------------------------------------------------\n",
    "\n",
    "Myself Piyush Patel, a Fourth Year Undergraduate Student at IIT KANPUR, to know more about me you can follow me on Instagram and other social media platforms: https://www.instagram.com/da_pkpatel (I reply to queries only through Insta)\n",
    "\n",
    "------------------------------------------------------------------------------\n",
    "\n",
    "Watch other Interesting and Insightful Videos & Playlist-\n",
    "\n",
    "IIT Lifestyle & Motivation Playlist - https://tinyurl.com/IITLifeIIT \n",
    "Vlogs Playlist: https://tinyurl.com/IITVlogs\n",
    "My Journey to IIT Playlist: https://tinyurl.com/MyJourneyToIIT\n",
    "\n",
    "-------------------------------------------------------------------------------------------------------------\n",
    "\n",
    "My Studio and Vlogging EquipementsPrimary DSLR - https://amzn.to/2W281bySecondary \n",
    "DSLR - https://amzn.to/2W0HnzV\n",
    "Mobile (Preferred for travel Vlogs) - https://amzn.to/2ZWpCCP\n",
    "Microphone - https://amzn.to/3ehofDVDigital Pen - https://amzn.to/3gMyXnD\n",
    "Tripod - https://amzn.to/2ZiTFFY, https://amzn.to/2ZS6gii\n",
    "\n",
    "---------------------------------------------------------------------------------------------------------------\n",
    "\n",
    "IIT-JEE Tips & Tricks, Student Life, College Side Hustle, Topper Notes, IIT College Life, Motivation - \"Learn from IITians\"Work Hard Play Hard!  '''"
   ]
  },
  {
   "cell_type": "code",
   "execution_count": null,
   "metadata": {},
   "outputs": [],
   "source": [
    "counter = 0\n",
    "\n",
    "while (True):\n",
    "    video_data = youtube.videos().list(part='snippet,statistics',id=VIDEO_ID).execute()\n",
    "#     print(json.dumps(video_data, indent=4, separators=(\". \", \" = \")))\n",
    "    vid_views = video_data['items'][0]['statistics']['viewCount']\n",
    "    vid_likes = video_data['items'][0]['statistics']['likeCount']\n",
    "    \n",
    "    request = youtube.videos().update(\n",
    "        part=\"snippet,status,localizations\",\n",
    "        body={\n",
    "            \"id\": VIDEO_ID,\n",
    "            \"localizations\": {\n",
    "                \"hi\": {\n",
    "                    \"title\": \"इस वीडियो पर '{}' व्यूज '{}' Likes है, जानिये कैसे\".format(vid_views,vid_likes),\n",
    "                    \"description\": description\n",
    "                }\n",
    "            },\n",
    "            \"snippet\": {\n",
    "                \"categoryId\": 22,\n",
    "                \"defaultLanguage\": \"en\",\n",
    "                \"description\": description,\n",
    "                \"tags\": [\n",
    "                    \"pk patel iitk\",\"pk\",\"iitk\",\"this video has this views how to do it\",\"how to write code that updates youtube view count\",\"this video has this many views and like\",\"code for this many views\",\"how to write a code that updates youtube video title\"\n",
    "                ],\n",
    "                \"title\": \"This video has '{}' views and '{}' Likes\".format(vid_views,vid_likes)\n",
    "            },\n",
    "            \"status\": {\n",
    "                \"privacyStatus\": \"public\"\n",
    "            }\n",
    "        }\n",
    "    ).execute()\n",
    "    print(\"success\"+str(counter))\n",
    "    counter+=1\n",
    "    time.sleep(60)"
   ]
  },
  {
   "cell_type": "code",
   "execution_count": null,
   "metadata": {},
   "outputs": [],
   "source": []
  }
 ],
 "metadata": {
  "kernelspec": {
   "display_name": "Python 3",
   "language": "python",
   "name": "python3"
  },
  "language_info": {
   "codemirror_mode": {
    "name": "ipython",
    "version": 3
   },
   "file_extension": ".py",
   "mimetype": "text/x-python",
   "name": "python",
   "nbconvert_exporter": "python",
   "pygments_lexer": "ipython3",
   "version": "3.7.4"
  }
 },
 "nbformat": 4,
 "nbformat_minor": 2
}
